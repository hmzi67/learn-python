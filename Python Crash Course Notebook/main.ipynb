{
 "cells": [
  {
   "cell_type": "markdown",
   "metadata": {},
   "source": [
    "# Modern Python Tutorial"
   ]
  },
  {
   "cell_type": "code",
   "execution_count": null,
   "metadata": {},
   "outputs": [],
   "source": []
  },
  {
   "cell_type": "markdown",
   "metadata": {},
   "source": [
    "### Installation\n",
    "Download the latest version for Windows:  [ Python v0.12 or latest](https://www.python.org/downloads/) <br/>\n",
    "Download the latest version for Linux:  <i>\"sudo dnf install python3.12 or \"sudo apt-get install python3.12\" (note: install latest version of python)</i>\n",
    "#### Checking Version\n",
    "Windows :    python --version<br/>\n",
    "Linux :      python3.12 --version"
   ]
  },
  {
   "cell_type": "markdown",
   "metadata": {},
   "source": [
    "## Let's Start Coding"
   ]
  },
  {
   "cell_type": "code",
   "execution_count": 1,
   "metadata": {},
   "outputs": [
    {
     "name": "stdout",
     "output_type": "stream",
     "text": [
      "Hello World\n"
     ]
    }
   ],
   "source": [
    "print(\"Hello World\");"
   ]
  },
  {
   "cell_type": "markdown",
   "metadata": {},
   "source": [
    "### String"
   ]
  },
  {
   "cell_type": "code",
   "execution_count": 2,
   "metadata": {},
   "outputs": [
    {
     "name": "stdout",
     "output_type": "stream",
     "text": [
      "Hello World\n",
      "<class 'str'>\n",
      "2229583245360\n",
      "['capitalize', 'casefold', 'center', 'count', 'encode', 'endswith', 'expandtabs', 'find', 'format', 'format_map', 'index', 'isalnum', 'isalpha', 'isascii', 'isdecimal', 'isdigit', 'isidentifier', 'islower', 'isnumeric', 'isprintable', 'isspace', 'istitle', 'isupper', 'join', 'ljust', 'lower', 'lstrip', 'maketrans', 'partition', 'removeprefix', 'removesuffix', 'replace', 'rfind', 'rindex', 'rjust', 'rpartition', 'rsplit', 'rstrip', 'split', 'splitlines', 'startswith', 'strip', 'swapcase', 'title', 'translate', 'upper', 'zfill']\n"
     ]
    }
   ],
   "source": [
    "newString = \"Hello World\";\n",
    "print(newString)    # Output: Hello World\n",
    "print(type(newString))      #type method with show the type of \"newString\"\n",
    "print(id(newString))    #id() will return the physical address of \"newString\"\n",
    "print([ i for i in dir(newString) if \"__\" not in i])    #Methods and attributes"
   ]
  },
  {
   "cell_type": "markdown",
   "metadata": {},
   "source": [
    "### F-string pthon"
   ]
  },
  {
   "cell_type": "code",
   "execution_count": 3,
   "metadata": {},
   "outputs": [
    {
     "name": "stdout",
     "output_type": "stream",
     "text": [
      "HELLO This is Hamza\n",
      "Son of Waheed Abbasi\n",
      "Age is 23\n",
      "\n",
      "Hello: HELLO This is Hamza\n",
      "Father Name: Waheed Abbasi\n",
      "Age: 23\n",
      "Education: BS in Computer Science\n",
      "\n"
     ]
    }
   ],
   "source": [
    "\n",
    "message : str = \"HELLO This is Hamza\"\n",
    "fatherName: str = \"Waheed Abbasi\"\n",
    "age: int = 23\n",
    "education: str = 'BS in Computer Science'\n",
    "print(message + '\\n' + \\\n",
    "    'Son of ' + fatherName + '\\n' \\\n",
    "    'Age is ' + str(age)\n",
    "    )\n",
    "\n",
    "print(f\"\"\"\n",
    "Hello: {message}\n",
    "Father Name: {fatherName}\n",
    "Age: {age}\n",
    "Education: {education}\n",
    "\"\"\")\n"
   ]
  },
  {
   "cell_type": "markdown",
   "metadata": {},
   "source": [
    "### F-string and Jinja style"
   ]
  },
  {
   "cell_type": "code",
   "execution_count": 4,
   "metadata": {},
   "outputs": [
    {
     "name": "stdout",
     "output_type": "stream",
     "text": [
      "\n",
      "PIAIC Student Card\n",
      "Student Name : Hamza Waheed\n",
      "Father's Name: Hamza Waheed\n",
      "Age: 30\n",
      "Education : BS in Computer Science\n",
      "\n"
     ]
    }
   ],
   "source": [
    "\n",
    "\n",
    "name : str = 'Hamza Waheed'\n",
    "fname : str = \"Hamza Waheed\"\n",
    "education : str = \"BS in Computer Science\"\n",
    "age : int = 30\n",
    "\n",
    "\n",
    "card : str = f\"\"\"\n",
    "PIAIC Student Card\n",
    "Student Name : %s\n",
    "Father's Name: %s\n",
    "Age: %d\n",
    "Education : %s\n",
    "\"\"\" % (name, fname, age, education)\n",
    "\n",
    "print(card)"
   ]
  },
  {
   "cell_type": "markdown",
   "metadata": {},
   "source": [
    "## Methods"
   ]
  },
  {
   "cell_type": "code",
   "execution_count": 5,
   "metadata": {},
   "outputs": [
    {
     "data": {
      "text/plain": [
       "['capitalize',\n",
       " 'casefold',\n",
       " 'center',\n",
       " 'count',\n",
       " 'encode',\n",
       " 'endswith',\n",
       " 'expandtabs',\n",
       " 'find',\n",
       " 'format',\n",
       " 'format_map',\n",
       " 'index',\n",
       " 'isalnum',\n",
       " 'isalpha',\n",
       " 'isascii',\n",
       " 'isdecimal',\n",
       " 'isdigit',\n",
       " 'isidentifier',\n",
       " 'islower',\n",
       " 'isnumeric',\n",
       " 'isprintable',\n",
       " 'isspace',\n",
       " 'istitle',\n",
       " 'isupper',\n",
       " 'join',\n",
       " 'ljust',\n",
       " 'lower',\n",
       " 'lstrip',\n",
       " 'maketrans',\n",
       " 'partition',\n",
       " 'removeprefix',\n",
       " 'removesuffix',\n",
       " 'replace',\n",
       " 'rfind',\n",
       " 'rindex',\n",
       " 'rjust',\n",
       " 'rpartition',\n",
       " 'rsplit',\n",
       " 'rstrip',\n",
       " 'split',\n",
       " 'splitlines',\n",
       " 'startswith',\n",
       " 'strip',\n",
       " 'swapcase',\n",
       " 'title',\n",
       " 'translate',\n",
       " 'upper',\n",
       " 'zfill']"
      ]
     },
     "execution_count": 5,
     "metadata": {},
     "output_type": "execute_result"
    }
   ],
   "source": [
    "[i for i in dir(str) if \"__\" not in i]"
   ]
  },
  {
   "cell_type": "code",
   "execution_count": 6,
   "metadata": {},
   "outputs": [
    {
     "data": {
      "text/plain": [
       "'pakistan value a = 7 and value b = 8'"
      ]
     },
     "execution_count": 6,
     "metadata": {},
     "output_type": "execute_result"
    }
   ],
   "source": [
    "a = 7\n",
    "b = 8\n",
    "# {} place holder\n",
    "#                   0                1          0 1\n",
    "\"pakistan value a = {} and value b = {}\".format(a,b)"
   ]
  },
  {
   "cell_type": "code",
   "execution_count": 7,
   "metadata": {},
   "outputs": [
    {
     "name": "stdout",
     "output_type": "stream",
     "text": [
      "Hamza waheed\n",
      "hamza waheed\n"
     ]
    }
   ],
   "source": [
    "name : str = \"Hamza Waheed\"\n",
    "\n",
    "print(name.capitalize())\n",
    "print(name.lower())"
   ]
  },
  {
   "cell_type": "code",
   "execution_count": 8,
   "metadata": {},
   "outputs": [
    {
     "name": "stdout",
     "output_type": "stream",
     "text": [
      "\n",
      "PIAIC Student Card\n",
      "Student Name : Hamza Waheed\n",
      "Father's Name: Hamza Waheed\n",
      "Age: 23\n",
      "Education : BS in Computer Science\n",
      "\n",
      "Total 22\n",
      "\n"
     ]
    }
   ],
   "source": [
    "name : str = 'Hamza Waheed'\n",
    "fname : str = \"Hamza Waheed\"\n",
    "education : str = \"BS in Computer Science\"\n",
    "age : int = 23\n",
    "\n",
    "\n",
    "card : str = f\"\"\"\n",
    "PIAIC Student Card\n",
    "Student Name : {name}\n",
    "Father's Name: {fname}\n",
    "Age: {age}\n",
    "Education : {education}\n",
    "\n",
    "Total {2 + 8 + 9 + 3}\n",
    "\"\"\"\n",
    "\n",
    "print(card)"
   ]
  },
  {
   "cell_type": "markdown",
   "metadata": {},
   "source": [
    "## Recommended below two f-string format"
   ]
  },
  {
   "cell_type": "code",
   "execution_count": 9,
   "metadata": {},
   "outputs": [
    {
     "name": "stdout",
     "output_type": "stream",
     "text": [
      "\n",
      "PIAIC Student Card\n",
      "Student Name : Hamza Waheed\n",
      "Father's Name: Hamza Waheed\n",
      "Age: 23\n",
      "Education : BS in Computer Science\n",
      "\n"
     ]
    }
   ],
   "source": [
    "name : str = 'Hamza Waheed'\n",
    "fname : str = \"Hamza Waheed\"\n",
    "education : str = \"BS in Computer Science\"\n",
    "age : int = 23\n",
    "\n",
    "\n",
    "card : str = f\"\"\"\n",
    "PIAIC Student Card\n",
    "Student Name : {name}\n",
    "Father's Name: {fname}\n",
    "Age: {age}\n",
    "Education : {education}\n",
    "\"\"\"\n",
    "\n",
    "print(card)"
   ]
  },
  {
   "cell_type": "code",
   "execution_count": 10,
   "metadata": {},
   "outputs": [
    {
     "name": "stdout",
     "output_type": "stream",
     "text": [
      "My Name is Hamza Waheed Abbasi\n",
      "15\n",
      "My age is 23\n",
      "<class 'NoneType'>\n"
     ]
    }
   ],
   "source": [
    "student_code : str = \"\"\"\n",
    "print(\"My Name is Hamza Waheed Abbasi\")\n",
    "age:str = 'My age is 23'\n",
    "a:int = 7\n",
    "b:int = 8\n",
    "print(a + b )\n",
    "print(age)\n",
    "\"\"\"\n",
    "\n",
    "print(type(exec(student_code)))"
   ]
  },
  {
   "cell_type": "markdown",
   "metadata": {},
   "source": [
    "### Explore String methods and attributes\n",
    "pre-define global function we have used\n",
    "\n",
    "- print\n",
    "- type\n",
    "- id\n",
    "- dir\n",
    "- len"
   ]
  },
  {
   "cell_type": "code",
   "execution_count": 11,
   "metadata": {},
   "outputs": [
    {
     "name": "stdout",
     "output_type": "stream",
     "text": [
      "['capitalize', 'casefold', 'center', 'count', 'encode', 'endswith', 'expandtabs', 'find', 'format', 'format_map', 'index', 'isalnum', 'isalpha', 'isascii', 'isdecimal', 'isdigit', 'isidentifier', 'islower', 'isnumeric', 'isprintable', 'isspace', 'istitle', 'isupper', 'join', 'ljust', 'lower', 'lstrip', 'maketrans', 'partition', 'removeprefix', 'removesuffix', 'replace', 'rfind', 'rindex', 'rjust', 'rpartition', 'rsplit', 'rstrip', 'split', 'splitlines', 'startswith', 'strip', 'swapcase', 'title', 'translate', 'upper', 'zfill']\n",
      "47\n"
     ]
    }
   ],
   "source": [
    "a: list[str] = [i for i in dir(str) if \"__\" not in i]\n",
    "print(a)\n",
    "print(len(a))"
   ]
  },
  {
   "cell_type": "code",
   "execution_count": 12,
   "metadata": {},
   "outputs": [
    {
     "name": "stdout",
     "output_type": "stream",
     "text": [
      "Hamza waheed\n",
      "hamza waheed\n",
      "hamza waheed\n",
      "HAMZA WAHEED\n"
     ]
    }
   ],
   "source": [
    "name : str = \"Hamza Waheed\"\n",
    "\n",
    "#variable_name.method()\n",
    "\n",
    "print(name.capitalize())\n",
    "print(name.casefold())\n",
    "print(name.lower())\n",
    "print(name.upper())"
   ]
  },
  {
   "cell_type": "code",
   "execution_count": 13,
   "metadata": {},
   "outputs": [
    {
     "data": {
      "text/plain": [
       "'      Hamza Waheed        '"
      ]
     },
     "metadata": {},
     "output_type": "display_data"
    },
    {
     "data": {
      "text/plain": [
       "'Hamza Waheed        '"
      ]
     },
     "metadata": {},
     "output_type": "display_data"
    }
   ],
   "source": [
    "name : str = \"      Hamza Waheed        \"\n",
    "\n",
    "#variable_name.method()\n",
    "display(name)\n",
    "display(name.lstrip())"
   ]
  },
  {
   "cell_type": "code",
   "execution_count": 14,
   "metadata": {},
   "outputs": [
    {
     "data": {
      "text/plain": [
       "'      Hamza Waheed         '"
      ]
     },
     "metadata": {},
     "output_type": "display_data"
    },
    {
     "data": {
      "text/plain": [
       "'      Hamza Waheed'"
      ]
     },
     "metadata": {},
     "output_type": "display_data"
    }
   ],
   "source": [
    "name : str = \"      Hamza Waheed         \"\n",
    "\n",
    "#variable_name.method()\n",
    "display(name)\n",
    "display(name.rstrip())"
   ]
  },
  {
   "cell_type": "code",
   "execution_count": 15,
   "metadata": {},
   "outputs": [
    {
     "data": {
      "text/plain": [
       "'      Hamza Waheed         '"
      ]
     },
     "metadata": {},
     "output_type": "display_data"
    },
    {
     "data": {
      "text/plain": [
       "'Hamza Waheed'"
      ]
     },
     "metadata": {},
     "output_type": "display_data"
    }
   ],
   "source": [
    "name : str = \"      Hamza Waheed         \"\n",
    "\n",
    "#variable_name.method()\n",
    "display(name)\n",
    "display(name.strip())"
   ]
  },
  {
   "cell_type": "markdown",
   "metadata": {},
   "source": [
    "### Comment\n"
   ]
  },
  {
   "cell_type": "code",
   "execution_count": 16,
   "metadata": {},
   "outputs": [],
   "source": [
    "# String variable -- Comment using '#'\n",
    "x: str = \"Hello World\" "
   ]
  },
  {
   "cell_type": "markdown",
   "metadata": {},
   "source": [
    "### fullname"
   ]
  },
  {
   "cell_type": "code",
   "execution_count": 17,
   "metadata": {},
   "outputs": [
    {
     "name": "stdout",
     "output_type": "stream",
     "text": [
      "Hamza Waheed\n",
      "Hello, Hamza Waheed!\n"
     ]
    }
   ],
   "source": [
    "first_name:str = \"Hamza\"\n",
    "last_name:str = \"Waheed\"\n",
    "full_name:str = f\"{first_name} {last_name}\"\n",
    "print(full_name)\n",
    "print(f\"Hello, {full_name.title()}!\")"
   ]
  },
  {
   "cell_type": "markdown",
   "metadata": {},
   "source": [
    "## List"
   ]
  },
  {
   "cell_type": "code",
   "execution_count": 18,
   "metadata": {},
   "outputs": [
    {
     "name": "stdout",
     "output_type": "stream",
     "text": [
      "['item1', 3, True]\n",
      "['item1', '3', 'True']\n"
     ]
    }
   ],
   "source": [
    "items0: list = ['item1', 3, True]   # bad practice\n",
    "\n",
    "items1: list[str] = ['item1', '3', 'True']   # good practice\n",
    "print(items0)\n",
    "print(items1)\n",
    "\n"
   ]
  },
  {
   "cell_type": "markdown",
   "metadata": {},
   "source": [
    "### Access List items"
   ]
  },
  {
   "cell_type": "code",
   "execution_count": 19,
   "metadata": {},
   "outputs": [
    {
     "name": "stdout",
     "output_type": "stream",
     "text": [
      "banana\n",
      "Negative Indexing: cherry\n",
      "Range of Indexes\n",
      "['cherry', 'orange', 'kiwi']\n"
     ]
    }
   ],
   "source": [
    "thislist: list[str] = [\"apple\", \"banana\", \"cherry\"]\n",
    "print(thislist[1])\n",
    "\n",
    "thislist: list[str] = [\"apple\", \"banana\", \"cherry\"]\n",
    "print(\"Negative Indexing: \" + thislist[-1])\n",
    "\n",
    "print(\"Range of Indexes\")\n",
    "thislist: list[str] = [\"apple\", \"banana\", \"cherry\", \"orange\", \"kiwi\", \"melon\", \"mango\"]\n",
    "print(thislist[2:5])\n",
    "\n"
   ]
  },
  {
   "cell_type": "markdown",
   "metadata": {},
   "source": [
    "### Changing list items"
   ]
  },
  {
   "cell_type": "code",
   "execution_count": 20,
   "metadata": {},
   "outputs": [
    {
     "name": "stdout",
     "output_type": "stream",
     "text": [
      "['apple', 'blackcurrant', 'cherry']\n",
      "\n",
      "Change a Range of Item Values \n",
      "['apple', 'blackcurrant', 'watermelon', 'orange', 'kiwi', 'mango']\n",
      "['apple', 'blackcurrant', 'watermelon', 'cherry']\n",
      "['apple', 'watermelon']\n"
     ]
    }
   ],
   "source": [
    "thislist: list[str] = [\"apple\", \"banana\", \"cherry\"]\n",
    "thislist[1] = \"blackcurrant\"\n",
    "print(thislist)\n",
    "\n",
    "print(\"\\nChange a Range of Item Values \")\n",
    "thislist: list[str] = [\"apple\", \"banana\", \"cherry\", \"orange\", \"kiwi\", \"mango\"]\n",
    "thislist[1:3] = [\"blackcurrant\", \"watermelon\"]\n",
    "print(thislist)\n",
    "\n",
    "thislist: list[str] = [\"apple\", \"banana\", \"cherry\"]\n",
    "thislist[1:2] = [\"blackcurrant\", \"watermelon\"]\n",
    "print(thislist)\n",
    "\n",
    "thislist: list[str] = [\"apple\", \"banana\", \"cherry\"]\n",
    "thislist[1:3] = [\"watermelon\"]\n",
    "print(thislist)"
   ]
  },
  {
   "cell_type": "markdown",
   "metadata": {},
   "source": [
    "### List Methods"
   ]
  },
  {
   "cell_type": "code",
   "execution_count": 21,
   "metadata": {},
   "outputs": [
    {
     "name": "stdout",
     "output_type": "stream",
     "text": [
      "len method: return length of item from list\n",
      "3\n",
      "\n",
      "\n",
      "pop method: pop out an item from end of list\n",
      "['item1', '3']\n",
      "\n",
      "\n",
      "append method: add an item in end\n",
      "['item1', '3', 'saif']\n",
      "\n",
      "\n",
      "reversed list: reverse whole list\n",
      "['saif', '3', 'item1']\n",
      "\n",
      "\n",
      "sorted list: sort in alphabetic order\n",
      "['3', 'item1', 'saif']\n",
      "\n",
      "\n",
      "remove method: remove item from list\n",
      "['3', 'item1']\n",
      "\n",
      "\n",
      "insert method: insert value in any index you want\n",
      "['3', 'item1', 'Hamza']\n",
      "\n",
      "\n",
      "copy method: duplicate list and save in new variable\n",
      "['3', 'item1', 'Hamza']\n",
      "\n",
      "\n",
      "count method: returns the number of elements with the specified value\n",
      "List[str]: \n",
      "1\n",
      "List[int]: \n",
      "1\n",
      "\n",
      "\n",
      "extend method: add multiple items in end\n",
      "['3', 'item1', 'Hamza', '3']\n",
      "\n",
      "\n",
      "index method: returns the index of the first element with the specified value\n",
      "2\n",
      "\n",
      "\n",
      "clear method: clear whole list and return empty list\n",
      "[]\n"
     ]
    }
   ],
   "source": [
    "items: list[str] = ['item1', '3', 'True']\n",
    "\n",
    "print(\"len method: return length of item from list\")\n",
    "print(len(items))\n",
    "print(\"\\n\")\n",
    "\n",
    "# pop\n",
    "items.pop()\n",
    "print(\"pop method: pop out an item from end of list\")\n",
    "print(items)\n",
    "print(\"\\n\")\n",
    "\n",
    "# append items\n",
    "items.append('saif')\n",
    "print(\"append method: add an item in end\")\n",
    "print(items)  # Output: []\n",
    "\n",
    "print(\"\\n\")\n",
    "\n",
    "# reverse list\n",
    "items.reverse()\n",
    "print(\"reversed list: reverse whole list\")\n",
    "print(items)\n",
    "\n",
    "print(\"\\n\")\n",
    "\n",
    "# sort list\n",
    "items.sort()\n",
    "print(\"sorted list: sort in alphabetic order\")\n",
    "print(items)\n",
    "\n",
    "print(\"\\n\")\n",
    "\n",
    "# remove item from list\n",
    "items.remove(\"saif\")\n",
    "print(\"remove method: remove item from list\")\n",
    "print(items)\n",
    "\n",
    "print(\"\\n\")\n",
    "\n",
    "# insert method\n",
    "items.insert(2, \"Hamza\")\n",
    "print(\"insert method: insert value in any index you want\")\n",
    "print(items)\n",
    "\n",
    "print(\"\\n\")\n",
    "\n",
    "# copy method\n",
    "copyItems = items.copy()\n",
    "print(\"copy method: duplicate list and save in new variable\")\n",
    "print(copyItems)\n",
    "\n",
    "print(\"\\n\")\n",
    "\n",
    "# count method\n",
    "points: list[int] = [1, 4, 2, 9, 7, 8, 9, 3, 1]\n",
    "count = items.count(\"Hamza\")\n",
    "count1 = points.count(8)\n",
    "print(\"count method: returns the number of elements with the specified value\")\n",
    "print(\"List[str]: \")\n",
    "print(count)\n",
    "print(\"List[int]: \")\n",
    "print(count1)\n",
    "\n",
    "print(\"\\n\")\n",
    "\n",
    "# extend method\n",
    "items.extend('3')\n",
    "print(\"extend method: add multiple items in end\")\n",
    "print(items)\n",
    "\n",
    "print(\"\\n\")\n",
    "\n",
    "# index method\n",
    "Index = items.index('Hamza')\n",
    "print(\"index method: returns the index of the first element with the specified value\")\n",
    "print(Index)\n",
    "\n",
    "print(\"\\n\")\n",
    "\n",
    "# clear method\n",
    "items.clear()\n",
    "print(\"clear method: clear whole list and return empty list\")\n",
    "print(items)\n"
   ]
  },
  {
   "cell_type": "markdown",
   "metadata": {},
   "source": [
    "### Loop List"
   ]
  },
  {
   "cell_type": "markdown",
   "metadata": {},
   "source": []
  },
  {
   "cell_type": "code",
   "execution_count": 22,
   "metadata": {},
   "outputs": [
    {
     "name": "stdout",
     "output_type": "stream",
     "text": [
      "apple\n",
      "banana\n",
      "cherry\n",
      "\n",
      "Print all items by referring to their index number:\n",
      "apple\n",
      "banana\n",
      "cherry\n",
      "\n",
      "Using a While Loop:\n",
      "apple\n",
      "banana\n",
      "cherry\n",
      "\n",
      "Looping Using List Comprehension:\n",
      "apple\n",
      "banana\n",
      "cherry\n"
     ]
    },
    {
     "data": {
      "text/plain": [
       "[None, None, None]"
      ]
     },
     "execution_count": 22,
     "metadata": {},
     "output_type": "execute_result"
    }
   ],
   "source": [
    "thislist: list[str] = [\"apple\", \"banana\", \"cherry\"]\n",
    "for i in thislist:\n",
    "    print(i)\n",
    "\n",
    "print(\"\\nPrint all items by referring to their index number:\")\n",
    "for x in range(len(thislist)):\n",
    "    print(thislist[x])\n",
    "\n",
    "print(\"\\nUsing a While Loop:\")\n",
    "i = 0\n",
    "while i < len(thislist):\n",
    "    print(thislist[i])\n",
    "    i= i + 1\n",
    "\n",
    "print(\"\\nLooping Using List Comprehension:\")\n",
    "[print(x) for x in thislist]\n",
    "\n"
   ]
  },
  {
   "cell_type": "markdown",
   "metadata": {},
   "source": [
    "### List Comprehension\n",
    "    List comprehension offers a shorter syntax when you want to create a new list based on the values of an existing list."
   ]
  },
  {
   "cell_type": "code",
   "execution_count": 23,
   "metadata": {},
   "outputs": [
    {
     "name": "stdout",
     "output_type": "stream",
     "text": [
      "['apple', 'banana', 'mango']\n",
      "['apple']\n",
      "['banana', 'cherry', 'kiwi', 'mango']\n",
      "['apple', 'banana', 'cherry', 'kiwi', 'mango']\n",
      "[0, 1, 2, 3, 4, 5, 6, 7, 8, 9]\n",
      "[0, 1, 2, 3, 4]\n",
      "['APPLE', 'BANANA', 'CHERRY', 'KIWI', 'MANGO']\n",
      "['hello', 'hello', 'hello', 'hello', 'hello']\n",
      "['apple', 'orange', 'cherry', 'kiwi', 'mango']\n"
     ]
    }
   ],
   "source": [
    "fruits: list[str] = [\"apple\", \"banana\", \"cherry\", \"kiwi\", \"mango\"]\n",
    "newlist: list[str] = []\n",
    "\n",
    "for x in fruits:\n",
    "  if \"a\" in x:\n",
    "    newlist.append(x)\n",
    "\n",
    "print(newlist)\n",
    "\n",
    "fruits1: list[str] = [\"apple\", \"banana\", \"cherry\", \"kiwi\", \"mango\"]\n",
    "newlist2: list[str] = []\n",
    "\n",
    "for x in fruits1:\n",
    "    if 'p' in x:\n",
    "       newlist2.append(x)\n",
    "\n",
    "print(newlist2)\n",
    "\n",
    "# The Syntax\n",
    "# newlist = [expression for item in iterable if condition == True]\n",
    "# The return value is a new list, leaving the old list unchanged.\n",
    "newlist3: list[str] = [x for x in fruits if x != \"apple\"]\n",
    "print(newlist3)\n",
    "\n",
    "newlist4 = []\n",
    "newlist4 = [x for x in fruits]\n",
    "print(newlist4)\n",
    "\n",
    "\n",
    "newlist4 = [x for x in range(10)]\n",
    "print(newlist4)\n",
    "\n",
    "newlist4 = [x for x in range(10) if x < 5]\n",
    "print(newlist4)\n",
    "\n",
    "newlist4 = [x.upper() for x in fruits]\n",
    "print(newlist4)\n",
    "\n",
    "newlist4 = ['hello' for x in fruits]\n",
    "print(newlist4)\n",
    "\n",
    "newlist4 = [x if x != \"banana\" else \"orange\" for x in fruits]\n",
    "print(newlist4)\n"
   ]
  },
  {
   "cell_type": "markdown",
   "metadata": {},
   "source": [
    "### Join Lists\n",
    "#### Join Two Lists\n",
    "- There are several ways to join, or concatenate, two or more lists in Python.\n",
    "\n",
    "- One of the easiest ways are by using the + operator."
   ]
  },
  {
   "cell_type": "code",
   "execution_count": 24,
   "metadata": {},
   "outputs": [
    {
     "name": "stdout",
     "output_type": "stream",
     "text": [
      "['a', 'b', 'c', 1, 2, 3]\n",
      "['a', 'b', 'c', 1, 2, 3]\n",
      "['a', 'b', 'c', 1, 2, 3]\n"
     ]
    }
   ],
   "source": [
    "list1: list[str] = [\"a\", \"b\", \"c\"]\n",
    "list2: list[int] = [1, 2, 3]\n",
    "\n",
    "list3 = list1 + list2\n",
    "print(list3)\n",
    "\n",
    "\n",
    "list1 = [\"a\", \"b\" , \"c\"]\n",
    "list2 = [1, 2, 3]\n",
    "\n",
    "for x in list2:\n",
    "  list1.append(x)   # type: ignore\n",
    "\n",
    "print(list1)\n",
    "\n",
    "\n",
    "list1 = [\"a\", \"b\" , \"c\"]\n",
    "list2 = [1, 2, 3]\n",
    "\n",
    "list1.extend(list2)  # type: ignore\n",
    "print(list1)\n",
    "\n"
   ]
  },
  {
   "cell_type": "markdown",
   "metadata": {},
   "source": [
    "## Python Tuples\n",
    "- Tuples are used to store multiple items in a single variable.\n",
    "- Tuple is one of 4 built-in data types in Python used to store collections of data, the other 3 are List, Set, and- Dictionary, all with different qualities and usage.\n",
    "- A tuple is a collection which is ordered and unchangeable."
   ]
  },
  {
   "cell_type": "code",
   "execution_count": 25,
   "metadata": {},
   "outputs": [
    {
     "name": "stdout",
     "output_type": "stream",
     "text": [
      "('apple', 'banana', 'cherry') (1, 5, 7, 9, 3) (True, False, False)\n",
      "<class 'tuple'>\n",
      "('Hamza', 'Saif', 'Jamal')\n",
      "Hamza\n",
      "Saif\n",
      "Jamal\n",
      "\n",
      " For loop\n",
      "Hamza\n",
      "Saif\n",
      "Jamal\n"
     ]
    }
   ],
   "source": [
    "tuple1: tuple[str, str, str] = (\"apple\", \"banana\", \"cherry\")\n",
    "tuple2: tuple[int] = (1, 5, 7, 9, 3)\n",
    "tuple3: tuple[bool, bool, bool] = (True, False, False)\n",
    "print(tuple1, tuple2, tuple3)\n",
    "\n",
    "newTuple: tuple[str, str, str]= (\"Hamza\", \"Saif\", \"Jamal\")\n",
    "print(type (newTuple))\n",
    "print(newTuple)\n",
    "print(newTuple[0])\n",
    "print(newTuple[1])\n",
    "print(newTuple[2])\n",
    "\n",
    "print(\"\\n For loop\")\n",
    "for x in newTuple:\n",
    "    print(x)\n"
   ]
  },
  {
   "cell_type": "markdown",
   "metadata": {},
   "source": [
    "### List - Tuple"
   ]
  },
  {
   "cell_type": "code",
   "execution_count": 26,
   "metadata": {},
   "outputs": [
    {
     "name": "stdout",
     "output_type": "stream",
     "text": [
      "('Hamza', '123')\n",
      "Hamza 123\n",
      "('Saif', '321')\n",
      "Saif 321\n",
      "('Jamal', '786')\n",
      "Jamal 786\n"
     ]
    }
   ],
   "source": [
    "my_databse: list[tuple[str, str]] = [\n",
    "    (\"Hamza\", \"123\"),\n",
    "    (\"Saif\", \"321\"),\n",
    "    (\"Jamal\", \"786\")\n",
    "]\n",
    "\n",
    "for row in my_databse:\n",
    "    user, password = row\n",
    "    print(row)\n",
    "    print(user, password)   "
   ]
  },
  {
   "cell_type": "code",
   "execution_count": 27,
   "metadata": {},
   "outputs": [],
   "source": [
    "my_databse: list[tuple[str, str]] = [\n",
    "    (\"Hamza\", \"123\"),\n",
    "    (\"Saif\", \"321\"),\n",
    "    (\"Jamal\", \"786\")\n",
    "]\n",
    "\n",
    "input_username = input(\"Enter your name: \")\n",
    "input_password = input(\"Enter your Password: \")\n",
    "\n",
    "for row in my_databse:\n",
    "    user, password = row\n",
    "    if input_username == user and input_password == password:\n",
    "        print(\"Welcome to Code HUNTS\")\n",
    "        break\n",
    "else:\n",
    "    print(\"Invalid Credientials\")"
   ]
  },
  {
   "cell_type": "code",
   "execution_count": null,
   "metadata": {},
   "outputs": [
    {
     "name": "stdout",
     "output_type": "stream",
     "text": [
      "Invalid Credientials\n"
     ]
    }
   ],
   "source": [
    "my_databse: list[tuple[str, str]] = [\n",
    "    (\"Hamza\", \"123\"),\n",
    "    (\"Saif\", \"321\"),\n",
    "    (\"Jamal\", \"786\")\n",
    "]\n",
    "\n",
    "input_username = input(\"Enter your name: \")             #Hamz \n",
    "input_password = input(\"Enter your Password: \")         # 2234\n",
    "\n",
    "for row in my_databse:\n",
    "    user, password = row\n",
    "    if input_username == user and input_password == password:\n",
    "        print(\"Welcome to Code HUNTS\")\n",
    "        break\n",
    "else:\n",
    "    print(\"Invalid Credientials\")"
   ]
  },
  {
   "cell_type": "markdown",
   "metadata": {},
   "source": [
    "### Unpacking a Tuple"
   ]
  },
  {
   "cell_type": "code",
   "execution_count": 17,
   "metadata": {},
   "outputs": [
    {
     "name": "stdout",
     "output_type": "stream",
     "text": [
      "apple\n",
      "banana\n",
      "cherry\n"
     ]
    }
   ],
   "source": [
    "fruits: tuple[str, ...] = (\"apple\", \"banana\", \"cherry\")\n",
    "\n",
    "(green, yellow, red) = fruits\n",
    "\n",
    "print(green)\n",
    "print(yellow)\n",
    "print(red)"
   ]
  },
  {
   "cell_type": "markdown",
   "metadata": {},
   "source": [
    "### Using Asterisk*"
   ]
  },
  {
   "cell_type": "code",
   "execution_count": 18,
   "metadata": {},
   "outputs": [
    {
     "name": "stdout",
     "output_type": "stream",
     "text": [
      "apple\n",
      "banana\n",
      "['cherry', 'strawberry', 'raspberry']\n"
     ]
    }
   ],
   "source": [
    "fruits: tuple[str, ...] = (\"apple\", \"banana\", \"cherry\", \"strawberry\", \"raspberry\")\n",
    "\n",
    "(green, yellow, *red) = fruits\n",
    "\n",
    "print(green)\n",
    "print(yellow)\n",
    "print(red)\n"
   ]
  },
  {
   "cell_type": "markdown",
   "metadata": {},
   "source": [
    "### The tuple() Constructor\n",
    "- It is also possible to use the tuple() constructor to make a tuple."
   ]
  },
  {
   "cell_type": "code",
   "execution_count": 1,
   "metadata": {},
   "outputs": [
    {
     "name": "stdout",
     "output_type": "stream",
     "text": [
      "('hamza', 'awais', 'naveed')\n"
     ]
    }
   ],
   "source": [
    "constructor = tuple(('hamza', 'awais', 'naveed'))\n",
    "print(constructor)"
   ]
  },
  {
   "cell_type": "markdown",
   "metadata": {},
   "source": [
    "### Accessing tuple items"
   ]
  },
  {
   "cell_type": "code",
   "execution_count": 3,
   "metadata": {},
   "outputs": [
    {
     "name": "stdout",
     "output_type": "stream",
     "text": [
      "apple\n",
      "Negative: mango\n",
      "Range of Indexes: \n",
      " ('banana', 'cherry', 'orange')\n",
      "('apple', 'banana', 'cherry')\n",
      "('cherry', 'orange', 'kiwi', 'melon', 'mango')\n",
      "('cherry', 'orange', 'kiwi', 'melon', 'mango')\n"
     ]
    }
   ],
   "source": [
    "thistuple: tuple[str, ...] = (\"apple\", \"banana\", \"cherry\", \"orange\", \"kiwi\", \"melon\", \"mango\")\n",
    "print(thistuple[0])\n",
    "print('Negative: ' + thistuple[-1])\n",
    "print(\"Range of Indexes: \\n\", thistuple[1:4])\n",
    "print(thistuple[:3])\n",
    "print(thistuple[2:])\n",
    "print(thistuple[2:])"
   ]
  },
  {
   "cell_type": "markdown",
   "metadata": {},
   "source": [
    "#### Update Tuples"
   ]
  },
  {
   "cell_type": "code",
   "execution_count": 4,
   "metadata": {},
   "outputs": [
    {
     "ename": "TypeError",
     "evalue": "'tuple' object does not support item assignment",
     "output_type": "error",
     "traceback": [
      "\u001b[1;31m---------------------------------------------------------------------------\u001b[0m",
      "\u001b[1;31mTypeError\u001b[0m                                 Traceback (most recent call last)",
      "Cell \u001b[1;32mIn[4], line 3\u001b[0m\n\u001b[0;32m      1\u001b[0m names:\u001b[38;5;28mtuple\u001b[39m[\u001b[38;5;28mstr\u001b[39m] \u001b[38;5;241m=\u001b[39m (\u001b[38;5;124m'\u001b[39m\u001b[38;5;124mA\u001b[39m\u001b[38;5;124m'\u001b[39m,\u001b[38;5;124m\"\u001b[39m\u001b[38;5;124mB\u001b[39m\u001b[38;5;124m\"\u001b[39m,\u001b[38;5;124m'\u001b[39m\u001b[38;5;124mC\u001b[39m\u001b[38;5;124m'\u001b[39m)\n\u001b[1;32m----> 3\u001b[0m \u001b[43mnames\u001b[49m\u001b[43m[\u001b[49m\u001b[38;5;241;43m0\u001b[39;49m\u001b[43m]\u001b[49m \u001b[38;5;241m=\u001b[39m \u001b[38;5;124m\"\u001b[39m\u001b[38;5;124mPakistan\u001b[39m\u001b[38;5;124m\"\u001b[39m\n",
      "\u001b[1;31mTypeError\u001b[0m: 'tuple' object does not support item assignment"
     ]
    }
   ],
   "source": [
    "names:tuple[str] = ('A',\"B\",'C')\n",
    "\n",
    "names[0] = \"Pakistan\""
   ]
  },
  {
   "cell_type": "markdown",
   "metadata": {},
   "source": []
  },
  {
   "cell_type": "code",
   "execution_count": 24,
   "metadata": {},
   "outputs": [
    {
     "name": "stdout",
     "output_type": "stream",
     "text": [
      "('apple', 'kiwi', 'cherry')\n"
     ]
    }
   ],
   "source": [
    "x: tuple[str, ...] = (\"apple\", \"banana\", \"cherry\")\n",
    "y = list(x)\n",
    "y[1] = \"kiwi\"\n",
    "x = tuple(y)\n",
    "\n",
    "print(x)"
   ]
  },
  {
   "cell_type": "code",
   "execution_count": 13,
   "metadata": {},
   "outputs": [
    {
     "name": "stdout",
     "output_type": "stream",
     "text": [
      "('A', [32, 565, 12], True, 2.35)\n",
      "[32, 565, 12]\n",
      "('A', [32, 565, 12, 54454], True, 2.35)\n"
     ]
    }
   ],
   "source": [
    "from typing import Any\n",
    "data : tuple[Any] = (\"A\",[1,2,3], True)\n",
    "data: tuple[Any] = ('A', [32,565, 12], True, 2.35) \n",
    "print(data)\n",
    "\n",
    "print(data[1])\n",
    "data[1].append(54454)\n",
    "print(data)"
   ]
  },
  {
   "cell_type": "code",
   "execution_count": 14,
   "metadata": {},
   "outputs": [
    {
     "name": "stdout",
     "output_type": "stream",
     "text": [
      "<class 'str'>\n",
      "14253\n"
     ]
    }
   ],
   "source": [
    "a  = input(\"abc\") # return string type\n",
    "print(type(a))\n",
    "print(a)"
   ]
  },
  {
   "cell_type": "code",
   "execution_count": 15,
   "metadata": {},
   "outputs": [
    {
     "data": {
      "text/plain": [
       "[1, 3, 7, 8]"
      ]
     },
     "execution_count": 15,
     "metadata": {},
     "output_type": "execute_result"
    }
   ],
   "source": [
    "sorted([7,8,1,3])"
   ]
  },
  {
   "cell_type": "code",
   "execution_count": 16,
   "metadata": {},
   "outputs": [
    {
     "name": "stdout",
     "output_type": "stream",
     "text": [
      "[1, 4, 9, 16, 25, 36, 49, 64, 81, 100]\n"
     ]
    }
   ],
   "source": [
    "print([i**2 for i in range(1,11)])"
   ]
  }
 ],
 "metadata": {
  "kernelspec": {
   "display_name": "Python 3",
   "language": "python",
   "name": "python3"
  },
  "language_info": {
   "codemirror_mode": {
    "name": "ipython",
    "version": 3
   },
   "file_extension": ".py",
   "mimetype": "text/x-python",
   "name": "python",
   "nbconvert_exporter": "python",
   "pygments_lexer": "ipython3",
   "version": "3.12.2"
  }
 },
 "nbformat": 4,
 "nbformat_minor": 2
}
